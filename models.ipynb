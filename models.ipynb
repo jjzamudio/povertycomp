{
 "cells": [
  {
   "cell_type": "code",
   "execution_count": null,
   "metadata": {
    "collapsed": true
   },
   "outputs": [],
   "source": [
    "#https://www.dataquest.io/blog/introduction-to-ensembles/\n",
    "#http://blog.kaggle.com/2016/12/27/a-kagglers-guide-to-model-stacking-in-practice/\n",
    "\n",
    "#https://www.analyticsvidhya.com/blog/2016/03/complete-guide-parameter-tuning-xgboost-with-codes-python/\n",
    "#https://machinelearningmastery.com/tune-learning-rate-for-gradient-boosting-with-xgboost-in-python/\n",
    "#http://scikit-learn.org/stable/auto_examples/model_selection/plot_randomized_search.html"
   ]
  },
  {
   "cell_type": "code",
   "execution_count": 16,
   "metadata": {
    "collapsed": true
   },
   "outputs": [],
   "source": [
    "import pandas as pd\n",
    "import numpy as np\n",
    "#import matplotlib.pyplot as plt\n",
    "#%matplotlib inline\n",
    "from mlens.ensemble import SuperLearner\n",
    "\n",
    "from sklearn.model_selection import GridSearchCV\n",
    "from sklearn.model_selection import StratifiedKFold\n",
    "\n",
    "##from sklearn.ensemble import AdaBoostClassifier\n",
    "#from sklearn.ensemble import GradientBoostingClassifier\n",
    "from xgboost import XGBClassifier\n",
    "\n",
    "#from sklearn.linear_model import LogisticRegression\n",
    "#from sklearn.ensemble import RandomForestClassifier\n",
    "#from sklearn.svm import SVC\n",
    "#from catboost import CatBoostClassifier\n",
    "#from sklearn.metrics import log_loss"
   ]
  },
  {
   "cell_type": "code",
   "execution_count": 17,
   "metadata": {
    "collapsed": true
   },
   "outputs": [],
   "source": [
    "datadir=\"D:/Machine Learning/Poverty_comp/data/\"\n",
    "a_train=pd.read_csv(datadir+'A_hhold_train.csv', index_col='id')\n",
    "b_train=pd.read_csv(datadir+'A_hhold_train.csv', index_col='id')\n",
    "c_train=pd.read_csv(datadir+'A_hhold_train.csv', index_col='id')"
   ]
  },
  {
   "cell_type": "code",
   "execution_count": 18,
   "metadata": {},
   "outputs": [
    {
     "data": {
      "text/plain": [
       "<matplotlib.axes._subplots.AxesSubplot at 0x199723e11d0>"
      ]
     },
     "execution_count": 18,
     "metadata": {},
     "output_type": "execute_result"
    }
   ],
   "source": [
    "b_train.poor.value_counts(normalize=False).plot.bar(title='Number of Poor for country A')"
   ]
  },
  {
   "cell_type": "code",
   "execution_count": 19,
   "metadata": {
    "collapsed": true
   },
   "outputs": [],
   "source": [
    "# Standardize features\n",
    "def standardize(df, numeric_only=True):\n",
    "    numeric = df.select_dtypes(include=['int64', 'float64'])\n",
    "    \n",
    "    # subtracy mean and divide by std\n",
    "    #df[numeric.columns] = (numeric - numeric.mean()) / numeric.std()\n",
    "    \n",
    "    return df\n",
    "    \n",
    "\n",
    "def pre_process_data(df, enforce_cols=None):\n",
    "    print(\"Input shape:\\t{}\".format(df.shape))\n",
    "        \n",
    "\n",
    "    df = standardize(df)\n",
    "    print(\"After standardization {}\".format(df.shape))\n",
    "        \n",
    "    # create dummy variables for categoricals\n",
    "    df = pd.get_dummies(df)\n",
    "    print(\"After converting categoricals:\\t{}\".format(df.shape))\n",
    "    \n",
    "\n",
    "    # match test set and training set columns\n",
    "    if enforce_cols is not None:\n",
    "        to_drop = np.setdiff1d(df.columns, enforce_cols)\n",
    "        to_add = np.setdiff1d(enforce_cols, df.columns)\n",
    "\n",
    "        df.drop(to_drop, axis=1, inplace=True)\n",
    "        df = df.assign(**{c: 0 for c in to_add})\n",
    "    \n",
    "    df.fillna(0, inplace=True)\n",
    "    \n",
    "    return df"
   ]
  },
  {
   "cell_type": "code",
   "execution_count": 20,
   "metadata": {
    "collapsed": true
   },
   "outputs": [],
   "source": [
    "def make_country_sub(preds, test_feat, country):\n",
    "    # make sure we code the country correctly\n",
    "    country_codes = ['A', 'B', 'C']\n",
    "    \n",
    "    # get just the poor probabilities\n",
    "    country_sub = pd.DataFrame(data=preds[:, 1],  # proba p=1\n",
    "                               columns=['poor'], \n",
    "                               index=test_feat.index)\n",
    "\n",
    "    \n",
    "    # add the country code for joining later\n",
    "    country_sub[\"country\"] = country\n",
    "    return country_sub[[\"country\", \"poor\"]]"
   ]
  },
  {
   "cell_type": "code",
   "execution_count": 21,
   "metadata": {},
   "outputs": [
    {
     "name": "stdout",
     "output_type": "stream",
     "text": [
      "Country A\n",
      "Input shape:\t(8203, 344)\n",
      "After standardization (8203, 344)\n",
      "After converting categoricals:\t(8203, 859)\n",
      "\n",
      "Country B\n",
      "Input shape:\t(8203, 344)\n",
      "After standardization (8203, 344)\n",
      "After converting categoricals:\t(8203, 859)\n",
      "\n",
      "Country C\n",
      "Input shape:\t(8203, 344)\n",
      "After standardization (8203, 344)\n",
      "After converting categoricals:\t(8203, 859)\n"
     ]
    }
   ],
   "source": [
    "print(\"Country A\")\n",
    "aX_train =  pre_process_data(a_train.drop('poor', axis=1))\n",
    "ay_train = np.ravel(a_train.poor)\n",
    "\n",
    "print(\"\\nCountry B\")\n",
    "bX_train =  pre_process_data(b_train.drop('poor', axis=1))\n",
    "by_train = np.ravel(b_train.poor)\n",
    "\n",
    "print(\"\\nCountry C\")\n",
    "cX_train =  pre_process_data(c_train.drop('poor', axis=1))\n",
    "cy_train = np.ravel(c_train.poor)"
   ]
  },
  {
   "cell_type": "code",
   "execution_count": 22,
   "metadata": {},
   "outputs": [
    {
     "name": "stdout",
     "output_type": "stream",
     "text": [
      "Input shape:\t(4041, 344)\n",
      "After standardization (4041, 344)\n",
      "After converting categoricals:\t(4041, 851)\n",
      "Input shape:\t(1604, 441)\n",
      "After standardization (1604, 441)\n",
      "After converting categoricals:\t(1604, 1419)\n",
      "Input shape:\t(3187, 163)\n",
      "After standardization (3187, 163)\n",
      "After converting categoricals:\t(3187, 773)\n"
     ]
    }
   ],
   "source": [
    "# load test data\n",
    "a_test = pd.read_csv(datadir+'A_hhold_test.csv', index_col='id')\n",
    "b_test = pd.read_csv(datadir+'B_hhold_test.csv', index_col='id')\n",
    "c_test = pd.read_csv(datadir+'C_hhold_test.csv', index_col='id')\n",
    "# process the test data\n",
    "a_test = pre_process_data(a_test, enforce_cols=aX_train.columns)\n",
    "b_test = pre_process_data(b_test, enforce_cols=bX_train.columns)\n",
    "c_test = pre_process_data(c_test, enforce_cols=cX_train.columns)"
   ]
  },
  {
   "cell_type": "code",
   "execution_count": 23,
   "metadata": {},
   "outputs": [
    {
     "data": {
      "text/html": [
       "<div>\n",
       "<style>\n",
       "    .dataframe thead tr:only-child th {\n",
       "        text-align: right;\n",
       "    }\n",
       "\n",
       "    .dataframe thead th {\n",
       "        text-align: left;\n",
       "    }\n",
       "\n",
       "    .dataframe tbody tr th {\n",
       "        vertical-align: top;\n",
       "    }\n",
       "</style>\n",
       "<table border=\"1\" class=\"dataframe\">\n",
       "  <thead>\n",
       "    <tr style=\"text-align: right;\">\n",
       "      <th></th>\n",
       "      <th>nEsgxvAq</th>\n",
       "      <th>OMtioXZZ</th>\n",
       "      <th>YFMZwKrU</th>\n",
       "      <th>TiwRslOh</th>\n",
       "      <th>wBXbHZmp_DkQlr</th>\n",
       "      <th>wBXbHZmp_JhtDR</th>\n",
       "      <th>SlDKnCuu_GUusz</th>\n",
       "      <th>SlDKnCuu_alLXR</th>\n",
       "      <th>KAJOWiiw_BIZns</th>\n",
       "      <th>KAJOWiiw_TuovO</th>\n",
       "      <th>...</th>\n",
       "      <th>JCDeZBXq_UyAms</th>\n",
       "      <th>HGPWuGlV_WKNwg</th>\n",
       "      <th>HGPWuGlV_vkbkA</th>\n",
       "      <th>GDUPaBQs_qCEuA</th>\n",
       "      <th>GDUPaBQs_qQxrL</th>\n",
       "      <th>WuwrCsIY_AITFl</th>\n",
       "      <th>WuwrCsIY_GAZGl</th>\n",
       "      <th>AlDbXTlZ_aQeIm</th>\n",
       "      <th>AlDbXTlZ_cecIq</th>\n",
       "      <th>country_A</th>\n",
       "    </tr>\n",
       "    <tr>\n",
       "      <th>id</th>\n",
       "      <th></th>\n",
       "      <th></th>\n",
       "      <th></th>\n",
       "      <th></th>\n",
       "      <th></th>\n",
       "      <th></th>\n",
       "      <th></th>\n",
       "      <th></th>\n",
       "      <th></th>\n",
       "      <th></th>\n",
       "      <th></th>\n",
       "      <th></th>\n",
       "      <th></th>\n",
       "      <th></th>\n",
       "      <th></th>\n",
       "      <th></th>\n",
       "      <th></th>\n",
       "      <th></th>\n",
       "      <th></th>\n",
       "      <th></th>\n",
       "      <th></th>\n",
       "    </tr>\n",
       "  </thead>\n",
       "  <tbody>\n",
       "    <tr>\n",
       "      <th>46107</th>\n",
       "      <td>-16.0</td>\n",
       "      <td>21</td>\n",
       "      <td>-2.0</td>\n",
       "      <td>-7</td>\n",
       "      <td>0</td>\n",
       "      <td>1</td>\n",
       "      <td>1</td>\n",
       "      <td>0</td>\n",
       "      <td>0</td>\n",
       "      <td>1</td>\n",
       "      <td>...</td>\n",
       "      <td>0</td>\n",
       "      <td>0</td>\n",
       "      <td>1</td>\n",
       "      <td>0</td>\n",
       "      <td>1</td>\n",
       "      <td>1</td>\n",
       "      <td>0</td>\n",
       "      <td>1</td>\n",
       "      <td>0</td>\n",
       "      <td>1</td>\n",
       "    </tr>\n",
       "    <tr>\n",
       "      <th>82739</th>\n",
       "      <td>-10.0</td>\n",
       "      <td>12</td>\n",
       "      <td>-3.0</td>\n",
       "      <td>-1</td>\n",
       "      <td>0</td>\n",
       "      <td>1</td>\n",
       "      <td>1</td>\n",
       "      <td>0</td>\n",
       "      <td>0</td>\n",
       "      <td>1</td>\n",
       "      <td>...</td>\n",
       "      <td>1</td>\n",
       "      <td>0</td>\n",
       "      <td>1</td>\n",
       "      <td>0</td>\n",
       "      <td>1</td>\n",
       "      <td>1</td>\n",
       "      <td>0</td>\n",
       "      <td>0</td>\n",
       "      <td>1</td>\n",
       "      <td>1</td>\n",
       "    </tr>\n",
       "    <tr>\n",
       "      <th>9646</th>\n",
       "      <td>-4.0</td>\n",
       "      <td>12</td>\n",
       "      <td>-3.0</td>\n",
       "      <td>-7</td>\n",
       "      <td>0</td>\n",
       "      <td>1</td>\n",
       "      <td>1</td>\n",
       "      <td>0</td>\n",
       "      <td>1</td>\n",
       "      <td>0</td>\n",
       "      <td>...</td>\n",
       "      <td>1</td>\n",
       "      <td>0</td>\n",
       "      <td>1</td>\n",
       "      <td>0</td>\n",
       "      <td>1</td>\n",
       "      <td>1</td>\n",
       "      <td>0</td>\n",
       "      <td>0</td>\n",
       "      <td>1</td>\n",
       "      <td>1</td>\n",
       "    </tr>\n",
       "    <tr>\n",
       "      <th>10975</th>\n",
       "      <td>-4.0</td>\n",
       "      <td>3</td>\n",
       "      <td>-4.0</td>\n",
       "      <td>-1</td>\n",
       "      <td>0</td>\n",
       "      <td>1</td>\n",
       "      <td>1</td>\n",
       "      <td>0</td>\n",
       "      <td>0</td>\n",
       "      <td>1</td>\n",
       "      <td>...</td>\n",
       "      <td>1</td>\n",
       "      <td>0</td>\n",
       "      <td>1</td>\n",
       "      <td>0</td>\n",
       "      <td>1</td>\n",
       "      <td>1</td>\n",
       "      <td>0</td>\n",
       "      <td>0</td>\n",
       "      <td>1</td>\n",
       "      <td>1</td>\n",
       "    </tr>\n",
       "    <tr>\n",
       "      <th>16463</th>\n",
       "      <td>-4.0</td>\n",
       "      <td>21</td>\n",
       "      <td>-4.0</td>\n",
       "      <td>-5</td>\n",
       "      <td>0</td>\n",
       "      <td>1</td>\n",
       "      <td>0</td>\n",
       "      <td>1</td>\n",
       "      <td>0</td>\n",
       "      <td>1</td>\n",
       "      <td>...</td>\n",
       "      <td>1</td>\n",
       "      <td>0</td>\n",
       "      <td>1</td>\n",
       "      <td>0</td>\n",
       "      <td>1</td>\n",
       "      <td>0</td>\n",
       "      <td>1</td>\n",
       "      <td>1</td>\n",
       "      <td>0</td>\n",
       "      <td>1</td>\n",
       "    </tr>\n",
       "  </tbody>\n",
       "</table>\n",
       "<p>5 rows × 859 columns</p>\n",
       "</div>"
      ],
      "text/plain": [
       "       nEsgxvAq  OMtioXZZ  YFMZwKrU  TiwRslOh  wBXbHZmp_DkQlr  wBXbHZmp_JhtDR  \\\n",
       "id                                                                              \n",
       "46107     -16.0        21      -2.0        -7               0               1   \n",
       "82739     -10.0        12      -3.0        -1               0               1   \n",
       "9646       -4.0        12      -3.0        -7               0               1   \n",
       "10975      -4.0         3      -4.0        -1               0               1   \n",
       "16463      -4.0        21      -4.0        -5               0               1   \n",
       "\n",
       "       SlDKnCuu_GUusz  SlDKnCuu_alLXR  KAJOWiiw_BIZns  KAJOWiiw_TuovO  \\\n",
       "id                                                                      \n",
       "46107               1               0               0               1   \n",
       "82739               1               0               0               1   \n",
       "9646                1               0               1               0   \n",
       "10975               1               0               0               1   \n",
       "16463               0               1               0               1   \n",
       "\n",
       "         ...      JCDeZBXq_UyAms  HGPWuGlV_WKNwg  HGPWuGlV_vkbkA  \\\n",
       "id       ...                                                       \n",
       "46107    ...                   0               0               1   \n",
       "82739    ...                   1               0               1   \n",
       "9646     ...                   1               0               1   \n",
       "10975    ...                   1               0               1   \n",
       "16463    ...                   1               0               1   \n",
       "\n",
       "       GDUPaBQs_qCEuA  GDUPaBQs_qQxrL  WuwrCsIY_AITFl  WuwrCsIY_GAZGl  \\\n",
       "id                                                                      \n",
       "46107               0               1               1               0   \n",
       "82739               0               1               1               0   \n",
       "9646                0               1               1               0   \n",
       "10975               0               1               1               0   \n",
       "16463               0               1               0               1   \n",
       "\n",
       "       AlDbXTlZ_aQeIm  AlDbXTlZ_cecIq  country_A  \n",
       "id                                                \n",
       "46107               1               0          1  \n",
       "82739               0               1          1  \n",
       "9646                0               1          1  \n",
       "10975               0               1          1  \n",
       "16463               1               0          1  \n",
       "\n",
       "[5 rows x 859 columns]"
      ]
     },
     "execution_count": 23,
     "metadata": {},
     "output_type": "execute_result"
    }
   ],
   "source": [
    "aX_train.head()"
   ]
  },
  {
   "cell_type": "code",
   "execution_count": 24,
   "metadata": {},
   "outputs": [
    {
     "data": {
      "text/html": [
       "<div>\n",
       "<style>\n",
       "    .dataframe thead tr:only-child th {\n",
       "        text-align: right;\n",
       "    }\n",
       "\n",
       "    .dataframe thead th {\n",
       "        text-align: left;\n",
       "    }\n",
       "\n",
       "    .dataframe tbody tr th {\n",
       "        vertical-align: top;\n",
       "    }\n",
       "</style>\n",
       "<table border=\"1\" class=\"dataframe\">\n",
       "  <thead>\n",
       "    <tr style=\"text-align: right;\">\n",
       "      <th></th>\n",
       "      <th>nEsgxvAq</th>\n",
       "      <th>OMtioXZZ</th>\n",
       "      <th>YFMZwKrU</th>\n",
       "      <th>TiwRslOh</th>\n",
       "      <th>wBXbHZmp_DkQlr</th>\n",
       "      <th>wBXbHZmp_JhtDR</th>\n",
       "      <th>SlDKnCuu_GUusz</th>\n",
       "      <th>SlDKnCuu_alLXR</th>\n",
       "      <th>KAJOWiiw_BIZns</th>\n",
       "      <th>KAJOWiiw_TuovO</th>\n",
       "      <th>...</th>\n",
       "      <th>AlDbXTlZ_cecIq</th>\n",
       "      <th>country_A</th>\n",
       "      <th>LjvKYNON_tFrTi</th>\n",
       "      <th>UjuNwfjv_ACFXG</th>\n",
       "      <th>UjuNwfjv_ZBMyY</th>\n",
       "      <th>UjuNwfjv_ujWYB</th>\n",
       "      <th>nKoaotpH_HQYUq</th>\n",
       "      <th>nSzbETYS_yTPHV</th>\n",
       "      <th>tHFrzjai_MkATH</th>\n",
       "      <th>tHFrzjai_xBZqe</th>\n",
       "    </tr>\n",
       "    <tr>\n",
       "      <th>id</th>\n",
       "      <th></th>\n",
       "      <th></th>\n",
       "      <th></th>\n",
       "      <th></th>\n",
       "      <th></th>\n",
       "      <th></th>\n",
       "      <th></th>\n",
       "      <th></th>\n",
       "      <th></th>\n",
       "      <th></th>\n",
       "      <th></th>\n",
       "      <th></th>\n",
       "      <th></th>\n",
       "      <th></th>\n",
       "      <th></th>\n",
       "      <th></th>\n",
       "      <th></th>\n",
       "      <th></th>\n",
       "      <th></th>\n",
       "      <th></th>\n",
       "      <th></th>\n",
       "    </tr>\n",
       "  </thead>\n",
       "  <tbody>\n",
       "    <tr>\n",
       "      <th>418</th>\n",
       "      <td>-4.0</td>\n",
       "      <td>12</td>\n",
       "      <td>-3.0</td>\n",
       "      <td>-9</td>\n",
       "      <td>0</td>\n",
       "      <td>1</td>\n",
       "      <td>1</td>\n",
       "      <td>0</td>\n",
       "      <td>0</td>\n",
       "      <td>1</td>\n",
       "      <td>...</td>\n",
       "      <td>1</td>\n",
       "      <td>1</td>\n",
       "      <td>0</td>\n",
       "      <td>0</td>\n",
       "      <td>0</td>\n",
       "      <td>0</td>\n",
       "      <td>0</td>\n",
       "      <td>0</td>\n",
       "      <td>0</td>\n",
       "      <td>0</td>\n",
       "    </tr>\n",
       "    <tr>\n",
       "      <th>41249</th>\n",
       "      <td>-4.0</td>\n",
       "      <td>30</td>\n",
       "      <td>-2.0</td>\n",
       "      <td>-1</td>\n",
       "      <td>0</td>\n",
       "      <td>1</td>\n",
       "      <td>0</td>\n",
       "      <td>1</td>\n",
       "      <td>1</td>\n",
       "      <td>0</td>\n",
       "      <td>...</td>\n",
       "      <td>0</td>\n",
       "      <td>1</td>\n",
       "      <td>0</td>\n",
       "      <td>0</td>\n",
       "      <td>0</td>\n",
       "      <td>0</td>\n",
       "      <td>0</td>\n",
       "      <td>0</td>\n",
       "      <td>0</td>\n",
       "      <td>0</td>\n",
       "    </tr>\n",
       "    <tr>\n",
       "      <th>16205</th>\n",
       "      <td>-10.0</td>\n",
       "      <td>21</td>\n",
       "      <td>-2.0</td>\n",
       "      <td>-11</td>\n",
       "      <td>0</td>\n",
       "      <td>1</td>\n",
       "      <td>0</td>\n",
       "      <td>1</td>\n",
       "      <td>1</td>\n",
       "      <td>0</td>\n",
       "      <td>...</td>\n",
       "      <td>0</td>\n",
       "      <td>1</td>\n",
       "      <td>0</td>\n",
       "      <td>0</td>\n",
       "      <td>0</td>\n",
       "      <td>0</td>\n",
       "      <td>0</td>\n",
       "      <td>0</td>\n",
       "      <td>0</td>\n",
       "      <td>0</td>\n",
       "    </tr>\n",
       "    <tr>\n",
       "      <th>97501</th>\n",
       "      <td>-4.0</td>\n",
       "      <td>30</td>\n",
       "      <td>-2.0</td>\n",
       "      <td>3</td>\n",
       "      <td>0</td>\n",
       "      <td>1</td>\n",
       "      <td>0</td>\n",
       "      <td>1</td>\n",
       "      <td>1</td>\n",
       "      <td>0</td>\n",
       "      <td>...</td>\n",
       "      <td>1</td>\n",
       "      <td>1</td>\n",
       "      <td>0</td>\n",
       "      <td>0</td>\n",
       "      <td>0</td>\n",
       "      <td>0</td>\n",
       "      <td>0</td>\n",
       "      <td>0</td>\n",
       "      <td>0</td>\n",
       "      <td>0</td>\n",
       "    </tr>\n",
       "    <tr>\n",
       "      <th>67756</th>\n",
       "      <td>-16.0</td>\n",
       "      <td>30</td>\n",
       "      <td>-3.0</td>\n",
       "      <td>-7</td>\n",
       "      <td>0</td>\n",
       "      <td>1</td>\n",
       "      <td>1</td>\n",
       "      <td>0</td>\n",
       "      <td>1</td>\n",
       "      <td>0</td>\n",
       "      <td>...</td>\n",
       "      <td>1</td>\n",
       "      <td>1</td>\n",
       "      <td>0</td>\n",
       "      <td>0</td>\n",
       "      <td>0</td>\n",
       "      <td>0</td>\n",
       "      <td>0</td>\n",
       "      <td>0</td>\n",
       "      <td>0</td>\n",
       "      <td>0</td>\n",
       "    </tr>\n",
       "  </tbody>\n",
       "</table>\n",
       "<p>5 rows × 859 columns</p>\n",
       "</div>"
      ],
      "text/plain": [
       "       nEsgxvAq  OMtioXZZ  YFMZwKrU  TiwRslOh  wBXbHZmp_DkQlr  wBXbHZmp_JhtDR  \\\n",
       "id                                                                              \n",
       "418        -4.0        12      -3.0        -9               0               1   \n",
       "41249      -4.0        30      -2.0        -1               0               1   \n",
       "16205     -10.0        21      -2.0       -11               0               1   \n",
       "97501      -4.0        30      -2.0         3               0               1   \n",
       "67756     -16.0        30      -3.0        -7               0               1   \n",
       "\n",
       "       SlDKnCuu_GUusz  SlDKnCuu_alLXR  KAJOWiiw_BIZns  KAJOWiiw_TuovO  \\\n",
       "id                                                                      \n",
       "418                 1               0               0               1   \n",
       "41249               0               1               1               0   \n",
       "16205               0               1               1               0   \n",
       "97501               0               1               1               0   \n",
       "67756               1               0               1               0   \n",
       "\n",
       "            ...        AlDbXTlZ_cecIq  country_A  LjvKYNON_tFrTi  \\\n",
       "id          ...                                                    \n",
       "418         ...                     1          1               0   \n",
       "41249       ...                     0          1               0   \n",
       "16205       ...                     0          1               0   \n",
       "97501       ...                     1          1               0   \n",
       "67756       ...                     1          1               0   \n",
       "\n",
       "       UjuNwfjv_ACFXG  UjuNwfjv_ZBMyY  UjuNwfjv_ujWYB  nKoaotpH_HQYUq  \\\n",
       "id                                                                      \n",
       "418                 0               0               0               0   \n",
       "41249               0               0               0               0   \n",
       "16205               0               0               0               0   \n",
       "97501               0               0               0               0   \n",
       "67756               0               0               0               0   \n",
       "\n",
       "       nSzbETYS_yTPHV  tHFrzjai_MkATH  tHFrzjai_xBZqe  \n",
       "id                                                     \n",
       "418                 0               0               0  \n",
       "41249               0               0               0  \n",
       "16205               0               0               0  \n",
       "97501               0               0               0  \n",
       "67756               0               0               0  \n",
       "\n",
       "[5 rows x 859 columns]"
      ]
     },
     "execution_count": 24,
     "metadata": {},
     "output_type": "execute_result"
    }
   ],
   "source": [
    "a_test.head()"
   ]
  },
  {
   "cell_type": "code",
   "execution_count": 25,
   "metadata": {
    "collapsed": true
   },
   "outputs": [],
   "source": [
    "def probabilities(alg,model_a,model_b,model_c, a_test, b_test, c_test):\n",
    "    a_test=a_test[aX_train.columns]\n",
    "    b_test=b_test[bX_train.columns]\n",
    "    c_test=c_test[cX_train.columns]\n",
    "    \n",
    "    a_preds = model_a.predict_proba(a_test)\n",
    "    b_preds = model_b.predict_proba(b_test)\n",
    "    c_preds = model_c.predict_proba(c_test)\n",
    "    \n",
    "    # convert preds to data frames\n",
    "    a_sub = make_country_sub(a_preds, a_test, 'A')\n",
    "    b_sub = make_country_sub(b_preds, b_test, 'B')\n",
    "    c_sub = make_country_sub(c_preds, c_test, 'C')\n",
    "    \n",
    "    filename='submission_'+str(alg)+'.csv'\n",
    "    file= pd.concat([a_sub, b_sub, c_sub])\n",
    "    file.to_csv( filename)\n",
    "    \n",
    "    return file.head()    "
   ]
  },
  {
   "cell_type": "code",
   "execution_count": 26,
   "metadata": {
    "collapsed": true
   },
   "outputs": [],
   "source": [
    "def fit_grid(grid_search):\n",
    "    print('\\rFitting... ', end='')\n",
    "    grid_search.fit(aX_train,ay_train)\n",
    "    model_a = grid_search.best_estimator_\n",
    "    print(grid_search.best_params_)\n",
    "    acc=model_a.score(aX_train,ay_train)\n",
    "    print('A',acc)\n",
    "    #print(model_a)\n",
    "    \n",
    "    print('\\rFitting... ', end='')\n",
    "    grid_search.fit(bX_train,by_train)\n",
    "    model_b = grid_search.best_estimator_\n",
    "    print(grid_search.best_params_)\n",
    "    acc=model_b.score(bX_train,by_train)\n",
    "    print('B',acc)\n",
    "    #print(model_b)\n",
    "    \n",
    "    print('\\rFitting... ', end='')\n",
    "    grid_search.fit(cX_train,cy_train)\n",
    "    model_c = grid_search.best_estimator_\n",
    "    print(grid_search.best_params_)\n",
    "    acc=model_c.score(cX_train,cy_train)\n",
    "    print('C',acc)\n",
    "    #print(model_c)\n",
    "    \n",
    "    return model_a, model_b, model_c"
   ]
  },
  {
   "cell_type": "markdown",
   "metadata": {},
   "source": [
    "## Model parameters"
   ]
  },
  {
   "cell_type": "code",
   "execution_count": 27,
   "metadata": {},
   "outputs": [
    {
     "data": {
      "text/html": [
       "<div>\n",
       "<style>\n",
       "    .dataframe thead tr:only-child th {\n",
       "        text-align: right;\n",
       "    }\n",
       "\n",
       "    .dataframe thead th {\n",
       "        text-align: left;\n",
       "    }\n",
       "\n",
       "    .dataframe tbody tr th {\n",
       "        vertical-align: top;\n",
       "    }\n",
       "</style>\n",
       "<table border=\"1\" class=\"dataframe\">\n",
       "  <thead>\n",
       "    <tr style=\"text-align: right;\">\n",
       "      <th></th>\n",
       "      <th>nEsgxvAq</th>\n",
       "      <th>OMtioXZZ</th>\n",
       "      <th>YFMZwKrU</th>\n",
       "      <th>TiwRslOh</th>\n",
       "      <th>wBXbHZmp_DkQlr</th>\n",
       "      <th>wBXbHZmp_JhtDR</th>\n",
       "      <th>SlDKnCuu_GUusz</th>\n",
       "      <th>SlDKnCuu_alLXR</th>\n",
       "      <th>KAJOWiiw_BIZns</th>\n",
       "      <th>KAJOWiiw_TuovO</th>\n",
       "      <th>...</th>\n",
       "      <th>JCDeZBXq_UyAms</th>\n",
       "      <th>HGPWuGlV_WKNwg</th>\n",
       "      <th>HGPWuGlV_vkbkA</th>\n",
       "      <th>GDUPaBQs_qCEuA</th>\n",
       "      <th>GDUPaBQs_qQxrL</th>\n",
       "      <th>WuwrCsIY_AITFl</th>\n",
       "      <th>WuwrCsIY_GAZGl</th>\n",
       "      <th>AlDbXTlZ_aQeIm</th>\n",
       "      <th>AlDbXTlZ_cecIq</th>\n",
       "      <th>country_A</th>\n",
       "    </tr>\n",
       "    <tr>\n",
       "      <th>id</th>\n",
       "      <th></th>\n",
       "      <th></th>\n",
       "      <th></th>\n",
       "      <th></th>\n",
       "      <th></th>\n",
       "      <th></th>\n",
       "      <th></th>\n",
       "      <th></th>\n",
       "      <th></th>\n",
       "      <th></th>\n",
       "      <th></th>\n",
       "      <th></th>\n",
       "      <th></th>\n",
       "      <th></th>\n",
       "      <th></th>\n",
       "      <th></th>\n",
       "      <th></th>\n",
       "      <th></th>\n",
       "      <th></th>\n",
       "      <th></th>\n",
       "      <th></th>\n",
       "    </tr>\n",
       "  </thead>\n",
       "  <tbody>\n",
       "    <tr>\n",
       "      <th>46107</th>\n",
       "      <td>-16.0</td>\n",
       "      <td>21</td>\n",
       "      <td>-2.0</td>\n",
       "      <td>-7</td>\n",
       "      <td>0</td>\n",
       "      <td>1</td>\n",
       "      <td>1</td>\n",
       "      <td>0</td>\n",
       "      <td>0</td>\n",
       "      <td>1</td>\n",
       "      <td>...</td>\n",
       "      <td>0</td>\n",
       "      <td>0</td>\n",
       "      <td>1</td>\n",
       "      <td>0</td>\n",
       "      <td>1</td>\n",
       "      <td>1</td>\n",
       "      <td>0</td>\n",
       "      <td>1</td>\n",
       "      <td>0</td>\n",
       "      <td>1</td>\n",
       "    </tr>\n",
       "    <tr>\n",
       "      <th>82739</th>\n",
       "      <td>-10.0</td>\n",
       "      <td>12</td>\n",
       "      <td>-3.0</td>\n",
       "      <td>-1</td>\n",
       "      <td>0</td>\n",
       "      <td>1</td>\n",
       "      <td>1</td>\n",
       "      <td>0</td>\n",
       "      <td>0</td>\n",
       "      <td>1</td>\n",
       "      <td>...</td>\n",
       "      <td>1</td>\n",
       "      <td>0</td>\n",
       "      <td>1</td>\n",
       "      <td>0</td>\n",
       "      <td>1</td>\n",
       "      <td>1</td>\n",
       "      <td>0</td>\n",
       "      <td>0</td>\n",
       "      <td>1</td>\n",
       "      <td>1</td>\n",
       "    </tr>\n",
       "    <tr>\n",
       "      <th>9646</th>\n",
       "      <td>-4.0</td>\n",
       "      <td>12</td>\n",
       "      <td>-3.0</td>\n",
       "      <td>-7</td>\n",
       "      <td>0</td>\n",
       "      <td>1</td>\n",
       "      <td>1</td>\n",
       "      <td>0</td>\n",
       "      <td>1</td>\n",
       "      <td>0</td>\n",
       "      <td>...</td>\n",
       "      <td>1</td>\n",
       "      <td>0</td>\n",
       "      <td>1</td>\n",
       "      <td>0</td>\n",
       "      <td>1</td>\n",
       "      <td>1</td>\n",
       "      <td>0</td>\n",
       "      <td>0</td>\n",
       "      <td>1</td>\n",
       "      <td>1</td>\n",
       "    </tr>\n",
       "    <tr>\n",
       "      <th>10975</th>\n",
       "      <td>-4.0</td>\n",
       "      <td>3</td>\n",
       "      <td>-4.0</td>\n",
       "      <td>-1</td>\n",
       "      <td>0</td>\n",
       "      <td>1</td>\n",
       "      <td>1</td>\n",
       "      <td>0</td>\n",
       "      <td>0</td>\n",
       "      <td>1</td>\n",
       "      <td>...</td>\n",
       "      <td>1</td>\n",
       "      <td>0</td>\n",
       "      <td>1</td>\n",
       "      <td>0</td>\n",
       "      <td>1</td>\n",
       "      <td>1</td>\n",
       "      <td>0</td>\n",
       "      <td>0</td>\n",
       "      <td>1</td>\n",
       "      <td>1</td>\n",
       "    </tr>\n",
       "    <tr>\n",
       "      <th>16463</th>\n",
       "      <td>-4.0</td>\n",
       "      <td>21</td>\n",
       "      <td>-4.0</td>\n",
       "      <td>-5</td>\n",
       "      <td>0</td>\n",
       "      <td>1</td>\n",
       "      <td>0</td>\n",
       "      <td>1</td>\n",
       "      <td>0</td>\n",
       "      <td>1</td>\n",
       "      <td>...</td>\n",
       "      <td>1</td>\n",
       "      <td>0</td>\n",
       "      <td>1</td>\n",
       "      <td>0</td>\n",
       "      <td>1</td>\n",
       "      <td>0</td>\n",
       "      <td>1</td>\n",
       "      <td>1</td>\n",
       "      <td>0</td>\n",
       "      <td>1</td>\n",
       "    </tr>\n",
       "  </tbody>\n",
       "</table>\n",
       "<p>5 rows × 859 columns</p>\n",
       "</div>"
      ],
      "text/plain": [
       "       nEsgxvAq  OMtioXZZ  YFMZwKrU  TiwRslOh  wBXbHZmp_DkQlr  wBXbHZmp_JhtDR  \\\n",
       "id                                                                              \n",
       "46107     -16.0        21      -2.0        -7               0               1   \n",
       "82739     -10.0        12      -3.0        -1               0               1   \n",
       "9646       -4.0        12      -3.0        -7               0               1   \n",
       "10975      -4.0         3      -4.0        -1               0               1   \n",
       "16463      -4.0        21      -4.0        -5               0               1   \n",
       "\n",
       "       SlDKnCuu_GUusz  SlDKnCuu_alLXR  KAJOWiiw_BIZns  KAJOWiiw_TuovO  \\\n",
       "id                                                                      \n",
       "46107               1               0               0               1   \n",
       "82739               1               0               0               1   \n",
       "9646                1               0               1               0   \n",
       "10975               1               0               0               1   \n",
       "16463               0               1               0               1   \n",
       "\n",
       "         ...      JCDeZBXq_UyAms  HGPWuGlV_WKNwg  HGPWuGlV_vkbkA  \\\n",
       "id       ...                                                       \n",
       "46107    ...                   0               0               1   \n",
       "82739    ...                   1               0               1   \n",
       "9646     ...                   1               0               1   \n",
       "10975    ...                   1               0               1   \n",
       "16463    ...                   1               0               1   \n",
       "\n",
       "       GDUPaBQs_qCEuA  GDUPaBQs_qQxrL  WuwrCsIY_AITFl  WuwrCsIY_GAZGl  \\\n",
       "id                                                                      \n",
       "46107               0               1               1               0   \n",
       "82739               0               1               1               0   \n",
       "9646                0               1               1               0   \n",
       "10975               0               1               1               0   \n",
       "16463               0               1               0               1   \n",
       "\n",
       "       AlDbXTlZ_aQeIm  AlDbXTlZ_cecIq  country_A  \n",
       "id                                                \n",
       "46107               1               0          1  \n",
       "82739               0               1          1  \n",
       "9646                0               1          1  \n",
       "10975               0               1          1  \n",
       "16463               1               0          1  \n",
       "\n",
       "[5 rows x 859 columns]"
      ]
     },
     "execution_count": 27,
     "metadata": {},
     "output_type": "execute_result"
    }
   ],
   "source": [
    "aX_train.head()"
   ]
  },
  {
   "cell_type": "code",
   "execution_count": 28,
   "metadata": {
    "collapsed": true
   },
   "outputs": [],
   "source": [
    "score='roc_auc'\n",
    "jobs=-1\n",
    "myfolds=StratifiedKFold(n_splits=4, shuffle=True)\n",
    "#myfolds=3"
   ]
  },
  {
   "cell_type": "markdown",
   "metadata": {
    "collapsed": true
   },
   "source": [
    "## XGBOOST"
   ]
  },
  {
   "cell_type": "code",
   "execution_count": 29,
   "metadata": {
    "collapsed": true
   },
   "outputs": [],
   "source": [
    "# Define GridSearch parameters grid for XGBoost\n",
    "\n",
    "\n",
    "parameter_grid_xgb = {\n",
    "    #'booster':['gbtree','gblinear'],\n",
    "     'reg_alpha':[1e-5, 1e-2, 0.1, 1],\n",
    "     'max_depth': list(range(3,6,1)),\n",
    "    #'gamma':[i/10.0 for i in range(3,5)],\n",
    "     #'min_child_weight':list(range(4,6,2)),\n",
    "    'n_estimators':list(range(50,600,100)),\n",
    "    'learning_rate': [  0.09, 0.1, 1.1, 1.2] , \n",
    "     #'subsample':[i/10.0 for i in range(6,9)]\n",
    "    #'colsample_bytree':[i/10.0 for i in range(7,9)]\n",
    "}\n",
    "\n",
    "xgb_grid_search = GridSearchCV(XGBClassifier(), parameter_grid_xgb, cv=myfolds, scoring=score, verbose=2, refit=True, n_jobs=jobs)"
   ]
  },
  {
   "cell_type": "code",
   "execution_count": 30,
   "metadata": {},
   "outputs": [
    {
     "name": "stdout",
     "output_type": "stream",
     "text": [
      "\r",
      "Fitting... Fitting 4 folds for each of 288 candidates, totalling 1152 fits\n"
     ]
    },
    {
     "name": "stderr",
     "output_type": "stream",
     "text": [
      "[Parallel(n_jobs=-1)]: Done  25 tasks      | elapsed:  2.1min\n",
      "[Parallel(n_jobs=-1)]: Done 146 tasks      | elapsed: 33.0min\n",
      "[Parallel(n_jobs=-1)]: Done 349 tasks      | elapsed: 114.6min\n",
      "[Parallel(n_jobs=-1)]: Done 632 tasks      | elapsed: 177.1min\n",
      "[Parallel(n_jobs=-1)]: Done 997 tasks      | elapsed: 255.9min\n",
      "[Parallel(n_jobs=-1)]: Done 1152 out of 1152 | elapsed: 297.0min finished\n"
     ]
    },
    {
     "name": "stdout",
     "output_type": "stream",
     "text": [
      "{'learning_rate': 0.1, 'max_depth': 4, 'n_estimators': 250, 'reg_alpha': 1e-05}\n",
      "A 0.948799219798\n",
      "XGBClassifier(base_score=0.5, booster='gbtree', colsample_bylevel=1,\n",
      "       colsample_bytree=1, gamma=0, learning_rate=0.1, max_delta_step=0,\n",
      "       max_depth=4, min_child_weight=1, missing=None, n_estimators=250,\n",
      "       n_jobs=1, nthread=None, objective='binary:logistic', random_state=0,\n",
      "       reg_alpha=1e-05, reg_lambda=1, scale_pos_weight=1, seed=None,\n",
      "       silent=True, subsample=1)\n",
      "Fitting... Fitting 4 folds for each of 288 candidates, totalling 1152 fits\n"
     ]
    },
    {
     "name": "stderr",
     "output_type": "stream",
     "text": [
      "[Parallel(n_jobs=-1)]: Done  25 tasks      | elapsed:  2.0min\n",
      "[Parallel(n_jobs=-1)]: Done 146 tasks      | elapsed: 26.6min\n",
      "[Parallel(n_jobs=-1)]: Done 349 tasks      | elapsed: 117.0min\n",
      "[Parallel(n_jobs=-1)]: Done 632 tasks      | elapsed: 218.9min\n",
      "[Parallel(n_jobs=-1)]: Done 997 tasks      | elapsed: 297.6min\n",
      "[Parallel(n_jobs=-1)]: Done 1152 out of 1152 | elapsed: 338.5min finished\n"
     ]
    },
    {
     "name": "stdout",
     "output_type": "stream",
     "text": [
      "{'learning_rate': 0.1, 'max_depth': 4, 'n_estimators': 250, 'reg_alpha': 0.01}\n",
      "B 0.948555406559\n",
      "XGBClassifier(base_score=0.5, booster='gbtree', colsample_bylevel=1,\n",
      "       colsample_bytree=1, gamma=0, learning_rate=0.1, max_delta_step=0,\n",
      "       max_depth=4, min_child_weight=1, missing=None, n_estimators=250,\n",
      "       n_jobs=1, nthread=None, objective='binary:logistic', random_state=0,\n",
      "       reg_alpha=0.01, reg_lambda=1, scale_pos_weight=1, seed=None,\n",
      "       silent=True, subsample=1)\n",
      "Fitting... Fitting 4 folds for each of 288 candidates, totalling 1152 fits\n"
     ]
    },
    {
     "name": "stderr",
     "output_type": "stream",
     "text": [
      "[Parallel(n_jobs=-1)]: Done  25 tasks      | elapsed:  1.9min\n",
      "[Parallel(n_jobs=-1)]: Done 146 tasks      | elapsed: 24.8min\n",
      "[Parallel(n_jobs=-1)]: Done 349 tasks      | elapsed: 72.3min\n",
      "[Parallel(n_jobs=-1)]: Done 632 tasks      | elapsed: 134.8min\n",
      "[Parallel(n_jobs=-1)]: Done 997 tasks      | elapsed: 219.7min\n",
      "[Parallel(n_jobs=-1)]: Done 1152 out of 1152 | elapsed: 298.3min finished\n"
     ]
    },
    {
     "name": "stdout",
     "output_type": "stream",
     "text": [
      "{'learning_rate': 0.1, 'max_depth': 4, 'n_estimators': 250, 'reg_alpha': 0.1}\n",
      "C 0.949408752895\n",
      "XGBClassifier(base_score=0.5, booster='gbtree', colsample_bylevel=1,\n",
      "       colsample_bytree=1, gamma=0, learning_rate=0.1, max_delta_step=0,\n",
      "       max_depth=4, min_child_weight=1, missing=None, n_estimators=250,\n",
      "       n_jobs=1, nthread=None, objective='binary:logistic', random_state=0,\n",
      "       reg_alpha=0.1, reg_lambda=1, scale_pos_weight=1, seed=None,\n",
      "       silent=True, subsample=1)\n"
     ]
    }
   ],
   "source": [
    "model_a, model_b, model_c=fit_grid(xgb_grid_search)"
   ]
  },
  {
   "cell_type": "code",
   "execution_count": 31,
   "metadata": {},
   "outputs": [
    {
     "data": {
      "text/html": [
       "<div>\n",
       "<style>\n",
       "    .dataframe thead tr:only-child th {\n",
       "        text-align: right;\n",
       "    }\n",
       "\n",
       "    .dataframe thead th {\n",
       "        text-align: left;\n",
       "    }\n",
       "\n",
       "    .dataframe tbody tr th {\n",
       "        vertical-align: top;\n",
       "    }\n",
       "</style>\n",
       "<table border=\"1\" class=\"dataframe\">\n",
       "  <thead>\n",
       "    <tr style=\"text-align: right;\">\n",
       "      <th></th>\n",
       "      <th>country</th>\n",
       "      <th>poor</th>\n",
       "    </tr>\n",
       "    <tr>\n",
       "      <th>id</th>\n",
       "      <th></th>\n",
       "      <th></th>\n",
       "    </tr>\n",
       "  </thead>\n",
       "  <tbody>\n",
       "    <tr>\n",
       "      <th>418</th>\n",
       "      <td>A</td>\n",
       "      <td>0.892417</td>\n",
       "    </tr>\n",
       "    <tr>\n",
       "      <th>41249</th>\n",
       "      <td>A</td>\n",
       "      <td>0.000286</td>\n",
       "    </tr>\n",
       "    <tr>\n",
       "      <th>16205</th>\n",
       "      <td>A</td>\n",
       "      <td>0.806257</td>\n",
       "    </tr>\n",
       "    <tr>\n",
       "      <th>97501</th>\n",
       "      <td>A</td>\n",
       "      <td>0.000518</td>\n",
       "    </tr>\n",
       "    <tr>\n",
       "      <th>67756</th>\n",
       "      <td>A</td>\n",
       "      <td>0.972265</td>\n",
       "    </tr>\n",
       "  </tbody>\n",
       "</table>\n",
       "</div>"
      ],
      "text/plain": [
       "      country      poor\n",
       "id                     \n",
       "418         A  0.892417\n",
       "41249       A  0.000286\n",
       "16205       A  0.806257\n",
       "97501       A  0.000518\n",
       "67756       A  0.972265"
      ]
     },
     "execution_count": 31,
     "metadata": {},
     "output_type": "execute_result"
    }
   ],
   "source": [
    "probabilities('xgb',model_a,model_b,model_c, a_test, b_test, c_test)"
   ]
  },
  {
   "cell_type": "code",
   "execution_count": 32,
   "metadata": {},
   "outputs": [
    {
     "data": {
      "text/plain": [
       "(XGBClassifier(base_score=0.5, booster='gbtree', colsample_bylevel=1,\n",
       "        colsample_bytree=1, gamma=0, learning_rate=0.1, max_delta_step=0,\n",
       "        max_depth=4, min_child_weight=1, missing=None, n_estimators=250,\n",
       "        n_jobs=1, nthread=None, objective='binary:logistic', random_state=0,\n",
       "        reg_alpha=1e-05, reg_lambda=1, scale_pos_weight=1, seed=None,\n",
       "        silent=True, subsample=1),\n",
       " XGBClassifier(base_score=0.5, booster='gbtree', colsample_bylevel=1,\n",
       "        colsample_bytree=1, gamma=0, learning_rate=0.1, max_delta_step=0,\n",
       "        max_depth=4, min_child_weight=1, missing=None, n_estimators=250,\n",
       "        n_jobs=1, nthread=None, objective='binary:logistic', random_state=0,\n",
       "        reg_alpha=0.01, reg_lambda=1, scale_pos_weight=1, seed=None,\n",
       "        silent=True, subsample=1),\n",
       " XGBClassifier(base_score=0.5, booster='gbtree', colsample_bylevel=1,\n",
       "        colsample_bytree=1, gamma=0, learning_rate=0.1, max_delta_step=0,\n",
       "        max_depth=4, min_child_weight=1, missing=None, n_estimators=250,\n",
       "        n_jobs=1, nthread=None, objective='binary:logistic', random_state=0,\n",
       "        reg_alpha=0.1, reg_lambda=1, scale_pos_weight=1, seed=None,\n",
       "        silent=True, subsample=1))"
      ]
     },
     "execution_count": 32,
     "metadata": {},
     "output_type": "execute_result"
    }
   ],
   "source": [
    "model_a, model_b, model_c"
   ]
  },
  {
   "cell_type": "code",
   "execution_count": 33,
   "metadata": {},
   "outputs": [
    {
     "ename": "SyntaxError",
     "evalue": "invalid syntax (<ipython-input-33-f9ef205a8f26>, line 1)",
     "output_type": "error",
     "traceback": [
      "\u001b[1;36m  File \u001b[1;32m\"<ipython-input-33-f9ef205a8f26>\"\u001b[1;36m, line \u001b[1;32m1\u001b[0m\n\u001b[1;33m    stop here\u001b[0m\n\u001b[1;37m            ^\u001b[0m\n\u001b[1;31mSyntaxError\u001b[0m\u001b[1;31m:\u001b[0m invalid syntax\n"
     ]
    }
   ],
   "source": [
    "stop here"
   ]
  },
  {
   "cell_type": "markdown",
   "metadata": {},
   "source": [
    "## AdaBoost"
   ]
  },
  {
   "cell_type": "code",
   "execution_count": null,
   "metadata": {
    "collapsed": true
   },
   "outputs": [],
   "source": [
    "parameter_grid_ada = {\n",
    "    'n_estimators': list(range(50,1300,100)),\n",
    "    'learning_rate': [ 0.001, 0.005, 0.009, 0.01, 0.1, 0.2, 0.3]   \n",
    "}\n",
    "\n",
    "ada_grid_search = GridSearchCV(AdaBoostClassifier(), parameter_grid_ada, cv=myfolds, scoring=score, verbose=2, refit=True, n_jobs=jobs)"
   ]
  },
  {
   "cell_type": "code",
   "execution_count": null,
   "metadata": {
    "collapsed": true,
    "scrolled": true
   },
   "outputs": [],
   "source": [
    "model_a, model_b, model_c=fit_grid(ada_grid_search)"
   ]
  },
  {
   "cell_type": "code",
   "execution_count": null,
   "metadata": {
    "collapsed": true
   },
   "outputs": [],
   "source": [
    "probabilities('ada',model_a,model_b,model_c, a_test, b_test, c_test)"
   ]
  },
  {
   "cell_type": "code",
   "execution_count": null,
   "metadata": {
    "collapsed": true
   },
   "outputs": [],
   "source": [
    "model_a"
   ]
  },
  {
   "cell_type": "code",
   "execution_count": null,
   "metadata": {
    "collapsed": true
   },
   "outputs": [],
   "source": [
    "model_b"
   ]
  },
  {
   "cell_type": "code",
   "execution_count": null,
   "metadata": {
    "collapsed": true
   },
   "outputs": [],
   "source": [
    "model_c"
   ]
  },
  {
   "cell_type": "code",
   "execution_count": null,
   "metadata": {
    "collapsed": true
   },
   "outputs": [],
   "source": [
    "stop here"
   ]
  },
  {
   "cell_type": "markdown",
   "metadata": {},
   "source": [
    "## Gradient Boosting Classifier"
   ]
  },
  {
   "cell_type": "code",
   "execution_count": null,
   "metadata": {
    "collapsed": true
   },
   "outputs": [],
   "source": [
    "# Define GridSearch parameters grid for XGBoost\n",
    "#https://machinelearningmastery.com/tune-learning-rate-for-gradient-boosting-with-xgboost-in-python/\n",
    "\n",
    "parameter_grid_gbc = {\n",
    "    'max_depth': list(range(3,9,2)),\n",
    "    'n_estimators': list(range(50,500,50)),\n",
    "    'learning_rate': [ 0.001, 0.01, 0.1, 0.2, 0.3, 0.4]\n",
    "}\n",
    "\n",
    "# Apply GridSearchCV\n",
    "\n",
    "gbc_grid_search = GridSearchCV(GradientBoostingClassifier(), parameter_grid_gbc, \n",
    "                               cv=myfolds, scoring=score, verbose=2, refit=True, n_jobs=jobs)"
   ]
  },
  {
   "cell_type": "code",
   "execution_count": null,
   "metadata": {
    "collapsed": true
   },
   "outputs": [],
   "source": [
    "model_a, model_b, model_c=fit_grid(gbc_grid_search)"
   ]
  },
  {
   "cell_type": "code",
   "execution_count": null,
   "metadata": {
    "collapsed": true
   },
   "outputs": [],
   "source": [
    " probabilities('gbc',model_a,model_b,model_c, a_test, b_test, c_test)"
   ]
  },
  {
   "cell_type": "code",
   "execution_count": null,
   "metadata": {
    "collapsed": true
   },
   "outputs": [],
   "source": [
    "ñkdxn"
   ]
  },
  {
   "cell_type": "code",
   "execution_count": null,
   "metadata": {
    "collapsed": true
   },
   "outputs": [],
   "source": []
  },
  {
   "cell_type": "markdown",
   "metadata": {},
   "source": [
    "## Random Forest"
   ]
  },
  {
   "cell_type": "code",
   "execution_count": null,
   "metadata": {
    "collapsed": true
   },
   "outputs": [],
   "source": [
    "# Define GridSearch parameters grid for Random Forest\n",
    "print('Defining parameter grid for Random Forest.')\n",
    "param_grid_rf = {\n",
    "    'min_samples_leaf': np.logspace(0, 5, num=5, base=4, endpoint=False, dtype=int),\n",
    "    'min_samples_split': [ 10, 30, 40],\n",
    "    'max_depth': list(range(3,8,2)),\n",
    "    'n_estimators': list(range(20,550,60))\n",
    "}"
   ]
  },
  {
   "cell_type": "code",
   "execution_count": null,
   "metadata": {
    "collapsed": true
   },
   "outputs": [],
   "source": [
    "# Apply GridSearchCV\n",
    "print('Initialize GridSearchCV instance for RF.')\n",
    "rf_grid_search = GridSearchCV(RandomForestClassifier(criterion='entropy'), param_grid_rf, cv=None, scoring='roc_auc', refit=True \n",
    "                              ,n_jobs=3,verbose=2)"
   ]
  },
  {
   "cell_type": "code",
   "execution_count": null,
   "metadata": {
    "collapsed": true
   },
   "outputs": [],
   "source": [
    "print('\\rFitting RF... ', end='')\n",
    "rf_grid_search.fit(aX_train, ay_train)\n",
    "model_a = rf_grid_search.best_estimator_\n",
    "print(model_a)"
   ]
  },
  {
   "cell_type": "code",
   "execution_count": null,
   "metadata": {
    "collapsed": true
   },
   "outputs": [],
   "source": [
    "print('\\rFitting RF... ', end='')\n",
    "rf_grid_search.fit(bX_train, by_train)\n",
    "model_b = rf_grid_search.best_estimator_\n",
    "print(model_b)"
   ]
  },
  {
   "cell_type": "code",
   "execution_count": null,
   "metadata": {
    "collapsed": true
   },
   "outputs": [],
   "source": [
    "print('\\rFitting RF... ', end='')\n",
    "rf_grid_search.fit(cX_train, cy_train)\n",
    "model_c = rf_grid_search.best_estimator_\n",
    "print(model_b)"
   ]
  },
  {
   "cell_type": "code",
   "execution_count": null,
   "metadata": {
    "collapsed": true
   },
   "outputs": [],
   "source": [
    "a_preds = model_a.predict_proba(a_test)\n",
    "b_preds = model_b.predict_proba(b_test)\n",
    "c_preds = model_c.predict_proba(c_test)\n",
    "\n",
    "# convert preds to data frames\n",
    "a_sub = make_country_sub(a_preds, a_test, 'A')\n",
    "b_sub = make_country_sub(b_preds, b_test, 'B')\n",
    "c_sub = make_country_sub(c_preds, c_test, 'C')\n",
    "submission_rf = pd.concat([a_sub, b_sub, c_sub])\n",
    "submission_rf.to_csv('submission_rf.csv')\n",
    "submission_rf.head()"
   ]
  },
  {
   "cell_type": "code",
   "execution_count": null,
   "metadata": {
    "collapsed": true
   },
   "outputs": [],
   "source": [
    "'''\n",
    "# RF Feature Importances\n",
    "importances = model_a.feature_importances_\n",
    "indices = np.argsort(importances)[::-1]\n",
    "\n",
    "# Plot the feature importances\n",
    "fig = plt.figure(figsize=(20,8))\n",
    "plt.bar(range(len(indices)), importances[indices], color=\"r\", align=\"center\")\n",
    "plt.title('Feature Importances Bar Plot')\n",
    "plt.xlabel('Feature Name')\n",
    "plt.ylabel('Feature Importance')\n",
    "plt.xticks(range(len(indices)), train_val.drop('Y', axis=1).columns[indices], rotation=45, horizontalalignment='right')\n",
    "plt.xlim([-1, len(indices)])\n",
    "plt.title('Feature Importance Graph for RF')\n",
    "plt.show()\n",
    "print('\\rSaving feature_importances barplot... ', end='')\n",
    "fig.savefig(rf_dir + 'feature_importances_rf.png')\n",
    "print('done.')\n",
    "'''"
   ]
  },
  {
   "cell_type": "code",
   "execution_count": null,
   "metadata": {
    "collapsed": true
   },
   "outputs": [],
   "source": [
    "Stop"
   ]
  },
  {
   "cell_type": "markdown",
   "metadata": {},
   "source": [
    "## Logistic Regression"
   ]
  },
  {
   "cell_type": "code",
   "execution_count": null,
   "metadata": {
    "collapsed": true
   },
   "outputs": [],
   "source": [
    "#1st, set up a paramater grid\n",
    "param_grid_lr = {'C':[10**i for i in range(-4, 4)], 'penalty':['l1', 'l2']}\n",
    "\n",
    "#2nd, call the GridSearchCV class, use LogisticRegression and 'roc_auc' for scoring\n",
    "lr_grid_search = GridSearchCV(LogisticRegression(), param_grid_lr, cv = None, n_jobs=2, scoring = 'log_loss', refit=True) \n"
   ]
  },
  {
   "cell_type": "code",
   "execution_count": null,
   "metadata": {
    "collapsed": true
   },
   "outputs": [],
   "source": [
    "lr_grid_search.fit(aX_train, ay_train)\n",
    "model_a=lr_grid_search.best_estimator_"
   ]
  },
  {
   "cell_type": "code",
   "execution_count": null,
   "metadata": {
    "collapsed": true
   },
   "outputs": [],
   "source": [
    "lr_grid_search.fit(bX_train, by_train)\n",
    "model_b=lr_grid_search.best_estimator_"
   ]
  },
  {
   "cell_type": "code",
   "execution_count": null,
   "metadata": {
    "collapsed": true
   },
   "outputs": [],
   "source": [
    "lr_grid_search.fit(cX_train, cy_train)\n",
    "model_c=lr_grid_search.best_estimator_"
   ]
  },
  {
   "cell_type": "code",
   "execution_count": null,
   "metadata": {
    "collapsed": true
   },
   "outputs": [],
   "source": [
    "#Predict probabilities\n",
    "a_preds = model_a.predict_proba(a_test)\n",
    "b_preds = model_b.predict_proba(b_test)\n",
    "c_preds = model_c.predict_proba(c_test)"
   ]
  },
  {
   "cell_type": "code",
   "execution_count": null,
   "metadata": {
    "collapsed": true
   },
   "outputs": [],
   "source": [
    "# convert preds to data frames\n",
    "a_sub = make_country_sub(a_preds, a_test, 'A')\n",
    "b_sub = make_country_sub(b_preds, b_test, 'B')\n",
    "c_sub = make_country_sub(c_preds, c_test, 'C')\n",
    "submission_lr = pd.concat([a_sub, b_sub, c_sub])\n",
    "submission_lr.to_csv('submission_lr.csv')"
   ]
  },
  {
   "cell_type": "code",
   "execution_count": null,
   "metadata": {
    "collapsed": true
   },
   "outputs": [],
   "source": [
    "submission_lr.head()"
   ]
  }
 ],
 "metadata": {
  "kernelspec": {
   "display_name": "Python 3",
   "language": "python",
   "name": "python3"
  },
  "language_info": {
   "codemirror_mode": {
    "name": "ipython",
    "version": 3
   },
   "file_extension": ".py",
   "mimetype": "text/x-python",
   "name": "python",
   "nbconvert_exporter": "python",
   "pygments_lexer": "ipython3",
   "version": "3.6.1"
  }
 },
 "nbformat": 4,
 "nbformat_minor": 2
}
